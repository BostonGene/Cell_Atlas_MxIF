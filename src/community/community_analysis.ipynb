{
 "cells": [
  {
   "cell_type": "code",
   "execution_count": 1,
   "id": "2099c444",
   "metadata": {},
   "outputs": [],
   "source": [
    "import copy\n",
    "import json\n",
    "import os\n",
    "from typing import Callable, Dict, List, Optional, Tuple, Union\n",
    "\n",
    "import cv2\n",
    "import matplotlib.pyplot as plt\n",
    "import numpy as np\n",
    "import pandas as pd\n",
    "import scipy\n",
    "import torch\n",
    "import torch.nn.functional as F\n",
    "import ujson\n",
    "from scipy.sparse import csr_matrix\n",
    "from scipy.spatial import Delaunay\n",
    "from sklearn.cluster import MiniBatchKMeans\n",
    "from sklearn.model_selection import train_test_split\n",
    "from sklearn.preprocessing import MinMaxScaler, OneHotEncoder\n",
    "from tiresias.metrics.mask_metrics import count_mask_pixels_in_radius\n",
    "from torch_geometric.data import Data, DataLoader\n",
    "from torch_geometric.nn import ARGVA, GCNConv\n",
    "from torch_geometric.utils import from_scipy_sparse_matrix\n",
    "from tqdm.notebook import tqdm"
   ]
  },
  {
   "cell_type": "markdown",
   "id": "abe809e9",
   "metadata": {},
   "source": [
    "## Function from tiresias"
   ]
  },
  {
   "cell_type": "code",
   "execution_count": 2,
   "id": "04ea6c09",
   "metadata": {},
   "outputs": [],
   "source": [
    "def generate_graph_adj_matrix(\n",
    "    dataset: pd.DataFrame,\n",
    "    center_x_col_name: str = \"center_x\",\n",
    "    center_y_col_name: str = \"center_y\",\n",
    "    compute_edge_lengths: bool = True,\n",
    ") -> csr_matrix:\n",
    "    \"\"\"Generates graph based on contour centroids and edge distance matrix. Nodes are ordered according to dataset row\n",
    "    order, so mapping is one to one.\n",
    "    :param dataset: pd.DataFrame, which contains coordinates of contour centroids\n",
    "    and columns of features to add for each node in graph.\n",
    "    :param center_x_col_name: name of column in dataset, which contains contour centroid x coordinate\n",
    "    :param center_y_col_name: name of column in dataset, which contains contour centroid y coordinate\n",
    "    :param compute_edge_lengths: compute length(L2) of connected nodes\n",
    "    :return: CSR sparse adjacency matrix and optional edge lengths array\n",
    "    \"\"\"\n",
    "    coordinates_columns_difference = {center_x_col_name, center_y_col_name}.difference(\n",
    "        dataset.columns\n",
    "    )\n",
    "    if coordinates_columns_difference:\n",
    "        raise KeyError(\n",
    "            f\"Centroid columns must be present in dataset, keys not found: {coordinates_columns_difference}\"\n",
    "        )\n",
    "\n",
    "    n_points = dataset.shape[0]\n",
    "    point_coordinates = dataset[[center_x_col_name, center_y_col_name]].values\n",
    "    del_triangulation = Delaunay(point_coordinates, qhull_options=\"QJ\")\n",
    "    indptr, indices = del_triangulation.vertex_neighbor_vertices\n",
    "\n",
    "    adjacency_matrix = csr_matrix(\n",
    "        (\n",
    "            np.ones_like(indices, dtype=np.int32),\n",
    "            indices,\n",
    "            indptr,\n",
    "        ),  # Using ones to indicate edges, no self-loops\n",
    "        shape=(n_points, n_points),\n",
    "    )\n",
    "\n",
    "    if compute_edge_lengths:\n",
    "        adj_row_idx, adj_col_idx = adjacency_matrix.nonzero()\n",
    "\n",
    "        edge_lengths = np.linalg.norm(\n",
    "            point_coordinates[adj_row_idx] - point_coordinates[adj_col_idx],\n",
    "            axis=1,\n",
    "            keepdims=True,\n",
    "        ).ravel()\n",
    "\n",
    "        adjacency_matrix = csr_matrix(\n",
    "            (\n",
    "                edge_lengths,\n",
    "                indices,\n",
    "                indptr,\n",
    "            ),\n",
    "            shape=(n_points, n_points),\n",
    "        )\n",
    "        return adjacency_matrix\n",
    "\n",
    "    return adjacency_matrix"
   ]
  },
  {
   "cell_type": "code",
   "execution_count": 3,
   "id": "9ec122df",
   "metadata": {},
   "outputs": [],
   "source": [
    "def threshold_graph_edges_by_distance(\n",
    "    adjacency_matrix: csr_matrix,\n",
    "    distance_threshold: Union[int, float],\n",
    ") -> csr_matrix:\n",
    "    \"\"\"\n",
    "    Removes edges by distance threshold\n",
    "    :param adjacency_matrix: graph sparse matrix with stored distances\n",
    "    :param distance_threshold: threshold for cutoff\n",
    "    \"\"\"\n",
    "    if not isinstance(adjacency_matrix, csr_matrix):\n",
    "        raise ValueError(\n",
    "            f\"Adjacency matrix have to be scipy`s CSR matrix! Currently: {type(adjacency_matrix)}\"\n",
    "        )\n",
    "\n",
    "    adjacency_matrix[adjacency_matrix > distance_threshold] = 0\n",
    "    adjacency_matrix.eliminate_zeros()\n",
    "    return adjacency_matrix"
   ]
  },
  {
   "cell_type": "code",
   "execution_count": 4,
   "id": "e22ae5a8",
   "metadata": {},
   "outputs": [],
   "source": [
    "def calculate_edge_length_statistic(\n",
    "    adjacency_matrix: csr_matrix,\n",
    "    distance_treshold: float,\n",
    "    stat_function: Callable[[np.array], float] = np.median,\n",
    "):\n",
    "    \"\"\"\n",
    "    Calculates node median distance to neighbours\n",
    "    :param adjacency_matrix: Graph sparse matrix with stored distances\n",
    "    :param distance_treshold: Default value for nods without neighbors\n",
    "    :param stat_function: Statistic function\n",
    "    :return: Aggregated statistic by edge\n",
    "    \"\"\"\n",
    "    adj_row_idx, adj_col_idx = adjacency_matrix.nonzero()\n",
    "    nonzero_data = np.array(adjacency_matrix[adj_row_idx, adj_col_idx].data).ravel()\n",
    "    split_indexes = np.cumsum(np.bincount(adj_row_idx))[:-1]\n",
    "    return np.array(\n",
    "        [\n",
    "            stat_function(x) if x.size else distance_treshold\n",
    "            for x in np.split(nonzero_data, split_indexes)\n",
    "        ]\n",
    "    )"
   ]
  },
  {
   "cell_type": "code",
   "execution_count": 5,
   "id": "5ebe0651",
   "metadata": {},
   "outputs": [],
   "source": [
    "class Encoder(torch.nn.Module):\n",
    "    def __init__(self, in_channels: int, hidden_channels: int, out_channels: int):\n",
    "        super(Encoder, self).__init__()\n",
    "        self.conv1 = GCNConv(in_channels, hidden_channels, cached=False)\n",
    "        self.conv_mu = GCNConv(hidden_channels, out_channels, cached=False)\n",
    "        self.conv_logstd = GCNConv(hidden_channels, out_channels, cached=False)\n",
    "\n",
    "    def forward(self, x, edge_index):\n",
    "        x = F.relu(self.conv1(x, edge_index))\n",
    "        return self.conv_mu(x, edge_index), self.conv_logstd(x, edge_index)\n",
    "\n",
    "\n",
    "class Discriminator(torch.nn.Module):\n",
    "    def __init__(self, in_channels: int, hidden_channels: int, out_channels: int):\n",
    "        super(Discriminator, self).__init__()\n",
    "        self.lin1 = torch.nn.Linear(in_channels, hidden_channels)\n",
    "        self.lin2 = torch.nn.Linear(hidden_channels, hidden_channels)\n",
    "        self.lin3 = torch.nn.Linear(hidden_channels, out_channels)\n",
    "\n",
    "    def forward(self, x):\n",
    "        x = F.relu(self.lin1(x))\n",
    "        x = F.relu(self.lin2(x))\n",
    "        x = self.lin3(x)\n",
    "        return x"
   ]
  },
  {
   "cell_type": "markdown",
   "id": "bb55fc7c",
   "metadata": {},
   "source": [
    "### Processing configuration"
   ]
  },
  {
   "cell_type": "code",
   "execution_count": 6,
   "id": "48aafe67",
   "metadata": {},
   "outputs": [],
   "source": [
    "path_cells = '/uftp/IA_AI/NCI_Andrea_FL/Metrics/Actual_frames/igd_typed_6_6.csv'\n",
    "path_contours = '/uftp/IA_AI/NCI_Andrea_FL/Publication_data/IBEX/Contours/'\n",
    "\n",
    "random_state = 42\n",
    "\n",
    "type_mapping = {\n",
    "                'B-cells CD10+': 'B-cells',\n",
    "                'B-cells CD10+BCL2+': 'B-cells',\n",
    "                'B-cells CD10+BCL2+IRF4+': 'B-cells',\n",
    "                'B-cells CD10+BCL6+': 'B-cells',\n",
    "                'PD1+ CD4 T-cells': 'ICOS+|CD69+ CD4 T-cells',\n",
    "                'CD4 T-cells Ki67+':'CD4 T-cells',\n",
    "                'TRM CD8 T-cells': 'CD8 T-cells',\n",
    "                'CD8 T-cells Ki67+': 'CD8 T-cells',\n",
    "                'PD1+ CD8 T-cells': 'CD8 T-cells',\n",
    "                'ICOS+|CD69+ CD8 T-cells': 'CD8 T-cells',\n",
    "                'Endothelium': 'Stromal cells',\n",
    "                'Lymphatic Endothelium': 'Stromal cells',\n",
    "                'SMC': 'Stromal cells',\n",
    "    }\n",
    "\n",
    "\n",
    "mask_paths = {\n",
    " 'CD21': '/uftp/IA_AI/NCI_Andrea_FL/Publication_data/IBEX/Signal_masks/',\n",
    " 'CD23': '/uftp/IA_AI/NCI_Andrea_FL/Publication_data/IBEX/Signal_masks/',\n",
    " 'CD35': '/uftp/IA_AI/NCI_Andrea_FL/Publication_data/IBEX/Signal_masks/',\n",
    " 'CD68': '/uftp/IA_AI/NCI_Andrea_FL/Publication_data/IBEX/Signal_masks/',\n",
    " 'DCSIGN': '/uftp/IA_AI/NCI_Andrea_FL/Publication_data/IBEX/Signal_masks/',\n",
    " 'CD163': '/uftp/IA_AI/NCI_Andrea_FL/Publication_data/IBEX/Signal_masks/',\n",
    " 'CD11c': '/uftp/IA_AI/NCI_Andrea_FL/Publication_data/IBEX/Signal_masks/',\n",
    " 'CD39': '/uftp/IA_AI/NCI_Andrea_FL/Publication_data/IBEX/Signal_masks/',\n",
    " 'CD49a': '/uftp/IA_AI/NCI_Andrea_FL/Publication_data/IBEX/Signal_masks/',\n",
    " 'CD31': '/uftp/IA_AI/NCI_Andrea_FL/Publication_data/IBEX/Signal_masks/',\n",
    " 'SMA': '/uftp/IA_AI/NCI_Andrea_FL/Publication_data/IBEX/Signal_masks/',\n",
    " 'Lyve': '/uftp/IA_AI/NCI_Andrea_FL/Publication_data/IBEX/Signal_masks/',\n",
    " 'SPARC': '/uftp/IA_AI/NCI_Andrea_FL/Publication_data/IBEX/Signal_masks/',\n",
    " 'CXCL13': '/uftp/IA_AI/NCI_Andrea_FL/Publication_data/IBEX/Signal_masks/',\n",
    " 'Desmin': '/uftp/IA_AI/NCI_Andrea_FL/Publication_data/IBEX/Signal_masks/',\n",
    " 'Vimentin': '/uftp/IA_AI/NCI_Andrea_FL/Publication_data/IBEX/Signal_masks/',\n",
    " 'Lumican': '/uftp/IA_AI/NCI_Andrea_FL/Publication_data/IBEX/Signal_masks/',\n",
    " 'Collagen': '/uftp/IA_AI/NCI_Andrea_FL/Publication_data/IBEX/Signal_masks/'\n",
    "}\n",
    "radius = 100\n",
    "node_fetures_to_add = ['center_x', 'center_y', 'cell_type', 'index']\n",
    "\n",
    "distance_threshold = 200\n",
    "center_x_col_name, center_y_col_name = 'center_x', 'center_y'\n",
    "\n",
    "features_columns = [\n",
    "    'nb_num_pixels_100_CD11c', \n",
    "    'nb_num_pixels_100_CD163',\n",
    "    'nb_num_pixels_100_CD21',\n",
    "    'nb_num_pixels_100_CD23',\n",
    "    'nb_num_pixels_100_CD35',\n",
    "    'nb_num_pixels_100_CD31',\n",
    "    'nb_num_pixels_100_CD39',\n",
    "    'nb_num_pixels_100_CD49a',\n",
    "    'nb_num_pixels_100_CD68',\n",
    "    'nb_num_pixels_100_CXCL13',\n",
    "    'nb_num_pixels_100_Collagen',\n",
    "    'nb_num_pixels_100_DCSIGN',\n",
    "    'nb_num_pixels_100_Desmin',\n",
    "    'nb_num_pixels_100_Lumican',\n",
    "    'nb_num_pixels_100_Lyve',\n",
    "    'nb_num_pixels_100_SMA',\n",
    "    'nb_num_pixels_100_SPARC',\n",
    "    'nb_num_pixels_100_Vimentin'\n",
    "]\n",
    "\n"
   ]
  },
  {
   "cell_type": "markdown",
   "id": "ed4a255b",
   "metadata": {},
   "source": [
    "# Data preparation"
   ]
  },
  {
   "cell_type": "code",
   "execution_count": 7,
   "id": "a5dd912b",
   "metadata": {},
   "outputs": [
    {
     "data": {
      "text/plain": [
       "HP9763    230133\n",
       "HP9781    228817\n",
       "HP9859    223085\n",
       "HP9796    213016\n",
       "HP9750    202023\n",
       "HP9857    183376\n",
       "HP9740    158343\n",
       "HP9849    150599\n",
       "HP9741    140195\n",
       "HP9976     70714\n",
       "Name: sample_id, dtype: int64"
      ]
     },
     "execution_count": 7,
     "metadata": {},
     "output_type": "execute_result"
    }
   ],
   "source": [
    "cells = pd.read_csv(path_cells)\n",
    "\n",
    "cells['cell_type'] = cells['cell_type'].replace(type_mapping)\n",
    "cells['sample_id'] = cells['sample_id'].replace({'HP9781_redo': 'HP9781'})\n",
    "cells = cells[cells['sample_id'] != 'HP9834_Capsule'].reset_index(drop=True)\n",
    "cells.sample_id.value_counts()"
   ]
  },
  {
   "cell_type": "code",
   "execution_count": 8,
   "id": "cdb4fa24",
   "metadata": {},
   "outputs": [],
   "source": [
    "# cells = cells[cells['sample_id'] == 'HP9740'].reset_index(drop=True)"
   ]
  },
  {
   "cell_type": "code",
   "execution_count": 9,
   "id": "823ccd23",
   "metadata": {},
   "outputs": [
    {
     "data": {
      "application/vnd.jupyter.widget-view+json": {
       "model_id": "bf6e610589824cb0a1d25a982bf13ce5",
       "version_major": 2,
       "version_minor": 0
      },
      "text/plain": [
       "  0%|          | 0/18 [00:00<?, ?it/s]"
      ]
     },
     "metadata": {},
     "output_type": "display_data"
    },
    {
     "data": {
      "application/vnd.jupyter.widget-view+json": {
       "model_id": "80280973d0ec4475bbcbfea6e03476d9",
       "version_major": 2,
       "version_minor": 0
      },
      "text/plain": [
       "  0%|          | 0/18 [00:00<?, ?it/s]"
      ]
     },
     "metadata": {},
     "output_type": "display_data"
    },
    {
     "data": {
      "application/vnd.jupyter.widget-view+json": {
       "model_id": "3a3d7872d13646d8a467eb8fb4cb39e0",
       "version_major": 2,
       "version_minor": 0
      },
      "text/plain": [
       "  0%|          | 0/18 [00:00<?, ?it/s]"
      ]
     },
     "metadata": {},
     "output_type": "display_data"
    },
    {
     "data": {
      "application/vnd.jupyter.widget-view+json": {
       "model_id": "df0182e4e85c49a38cf455b8a3a124a1",
       "version_major": 2,
       "version_minor": 0
      },
      "text/plain": [
       "  0%|          | 0/18 [00:00<?, ?it/s]"
      ]
     },
     "metadata": {},
     "output_type": "display_data"
    },
    {
     "data": {
      "application/vnd.jupyter.widget-view+json": {
       "model_id": "b7f9d128eb6a49f8b48ae4fd5ebe6196",
       "version_major": 2,
       "version_minor": 0
      },
      "text/plain": [
       "  0%|          | 0/18 [00:00<?, ?it/s]"
      ]
     },
     "metadata": {},
     "output_type": "display_data"
    },
    {
     "data": {
      "application/vnd.jupyter.widget-view+json": {
       "model_id": "ced426f6309443cd8050798595c6a605",
       "version_major": 2,
       "version_minor": 0
      },
      "text/plain": [
       "  0%|          | 0/18 [00:00<?, ?it/s]"
      ]
     },
     "metadata": {},
     "output_type": "display_data"
    },
    {
     "data": {
      "application/vnd.jupyter.widget-view+json": {
       "model_id": "71445813091442d59c7b0d5e087154b4",
       "version_major": 2,
       "version_minor": 0
      },
      "text/plain": [
       "  0%|          | 0/18 [00:00<?, ?it/s]"
      ]
     },
     "metadata": {},
     "output_type": "display_data"
    },
    {
     "data": {
      "application/vnd.jupyter.widget-view+json": {
       "model_id": "b250130b3fed462781ced2b70446e45e",
       "version_major": 2,
       "version_minor": 0
      },
      "text/plain": [
       "  0%|          | 0/18 [00:00<?, ?it/s]"
      ]
     },
     "metadata": {},
     "output_type": "display_data"
    },
    {
     "data": {
      "application/vnd.jupyter.widget-view+json": {
       "model_id": "6614c4e74b394a18b30ecdc735e15232",
       "version_major": 2,
       "version_minor": 0
      },
      "text/plain": [
       "  0%|          | 0/18 [00:00<?, ?it/s]"
      ]
     },
     "metadata": {},
     "output_type": "display_data"
    },
    {
     "data": {
      "application/vnd.jupyter.widget-view+json": {
       "model_id": "5817f859f6804a8b854a6ff40a6cdad5",
       "version_major": 2,
       "version_minor": 0
      },
      "text/plain": [
       "  0%|          | 0/18 [00:00<?, ?it/s]"
      ]
     },
     "metadata": {},
     "output_type": "display_data"
    }
   ],
   "source": [
    "rois = []\n",
    "for (sample_id, image_roi), sample_data in cells.groupby(['sample_id', 'image_roi']):\n",
    "    for mask_name in tqdm(mask_paths):\n",
    "        mask_path = mask_paths[mask_name]\n",
    "        mask = cv2.imread(f'{mask_path}/{sample_id}/{mask_name}.tif',\n",
    "                          cv2.IMREAD_UNCHANGED)\n",
    "        mask = (mask > 128).astype('uint8')\n",
    "        neighbour_pixels = count_mask_pixels_in_radius(\n",
    "            mask, sample_data[['center_x', 'center_y']].values, radius=radius)\n",
    "        feature_name = f'nb_num_pixels_{radius}_{mask_name}'\n",
    "        sample_data[feature_name] = neighbour_pixels\n",
    "        node_fetures_to_add.append(feature_name)\n",
    "    rois.append(sample_data)"
   ]
  },
  {
   "cell_type": "code",
   "execution_count": 10,
   "id": "8511501b",
   "metadata": {},
   "outputs": [],
   "source": [
    "cells = pd.concat(rois).reset_index(drop=True)\n",
    "cells['cell_index'] = cells['index']"
   ]
  },
  {
   "cell_type": "markdown",
   "id": "502f9d5c",
   "metadata": {},
   "source": [
    "## Load cell contours"
   ]
  },
  {
   "cell_type": "code",
   "execution_count": 11,
   "id": "309fb26f",
   "metadata": {},
   "outputs": [
    {
     "data": {
      "application/vnd.jupyter.widget-view+json": {
       "model_id": "3b9754cdb603428797f75d5b552c71cc",
       "version_major": 2,
       "version_minor": 0
      },
      "text/plain": [
       "  0%|          | 0/10 [00:00<?, ?it/s]"
      ]
     },
     "metadata": {},
     "output_type": "display_data"
    }
   ],
   "source": [
    "samples_contours = {}\n",
    "cell_image_shapes = {}\n",
    "\n",
    "for (sample_id, image_roi), roi_data in tqdm(cells.groupby(['sample_id', 'image_roi'])):\n",
    "    cur_path = (f'{path_contours}{sample_id}.json')\n",
    "\n",
    "    with open(cur_path, 'r') as contours_file:\n",
    "        contours = ujson.load(contours_file)\n",
    "        cell_image_shapes[(sample_id, image_roi)] = tuple(contours['shape'])\n",
    "        contours = [np.array(c, dtype=np.int32) for c in contours['contours']]\n",
    "    samples_contours[(sample_id, image_roi)] = contours"
   ]
  },
  {
   "cell_type": "markdown",
   "id": "8a6e8d04",
   "metadata": {},
   "source": [
    "## Assemble graphs"
   ]
  },
  {
   "cell_type": "code",
   "execution_count": 12,
   "id": "96ff9533",
   "metadata": {},
   "outputs": [
    {
     "data": {
      "application/vnd.jupyter.widget-view+json": {
       "model_id": "bcbab00e669f488e859ba73bce6d24f9",
       "version_major": 2,
       "version_minor": 0
      },
      "text/plain": [
       "  0%|          | 0/10 [00:00<?, ?it/s]"
      ]
     },
     "metadata": {},
     "output_type": "display_data"
    }
   ],
   "source": [
    "patient_graphs = dict()\n",
    "cell_distances = []\n",
    "\n",
    "for (sample_id, image_roi), roi_data in tqdm(cells.groupby(['sample_id', 'image_roi'])):\n",
    "    adjacency_matrix = generate_graph_adj_matrix(roi_data)\n",
    "    adjacency_matrix = threshold_graph_edges_by_distance(adjacency_matrix, distance_threshold)\n",
    "    median_edge_distance = calculate_edge_length_statistic(adjacency_matrix, distance_threshold)\n",
    "    \n",
    "    cell_distances.append(median_edge_distance)\n",
    "    patient_graphs[(sample_id, image_roi)] = (adjacency_matrix, median_edge_distance)\n",
    "\n",
    "cell_distances = np.concatenate(cell_distances)\n",
    "\n",
    "cell_distance_scaler = MinMaxScaler()\n",
    "cell_distance_scaler.fit(cell_distances.reshape(-1, 1))\n",
    "\n",
    "patient_graphs = {\n",
    "    key: (adj, cell_distance_scaler.transform(dst.reshape(-1, 1)))\n",
    "    for key, (adj, dst) in patient_graphs.items()\n",
    "}"
   ]
  },
  {
   "cell_type": "code",
   "execution_count": null,
   "id": "2bef19e3",
   "metadata": {},
   "outputs": [],
   "source": []
  },
  {
   "cell_type": "markdown",
   "id": "a72f0b37",
   "metadata": {},
   "source": [
    "## Collect dataset "
   ]
  },
  {
   "cell_type": "code",
   "execution_count": 13,
   "id": "aff62ab3",
   "metadata": {},
   "outputs": [
    {
     "data": {
      "application/vnd.jupyter.widget-view+json": {
       "model_id": "207ae7413eac405ca5a283323dcf02bf",
       "version_major": 2,
       "version_minor": 0
      },
      "text/plain": [
       "  0%|          | 0/10 [00:00<?, ?it/s]"
      ]
     },
     "metadata": {},
     "output_type": "display_data"
    }
   ],
   "source": [
    "if features_columns is None:\n",
    "    features_columns = [x for x in cells.columns if f'nb_num_pixels_{radius}' in x]\n",
    "\n",
    "cell_type_encoder = OneHotEncoder(sparse=False)\n",
    "cell_type_encoder.fit(cells['cell_type'].values.reshape(-1, 1))\n",
    "\n",
    "cohort_graph_dataset = []\n",
    "\n",
    "for (sample_id, image_roi), roi_data in tqdm(cells.groupby(['sample_id', 'image_roi'])):\n",
    "\n",
    "    adjacency_matrix, median_edge_distance = patient_graphs[(sample_id, image_roi)]\n",
    "    edge_indices, _ = from_scipy_sparse_matrix(adjacency_matrix)\n",
    "    cell_types = cell_type_encoder.transform(roi_data['cell_type'].values.reshape(-1, 1))\n",
    "    \n",
    "    mask_percentages = roi_data[features_columns]\n",
    "\n",
    "    node_data = np.concatenate([cell_types, median_edge_distance, mask_percentages], axis=1)\n",
    "\n",
    "    sample_data_object = Data(edge_index=edge_indices,\n",
    "                              x=torch.Tensor(node_data).float(),\n",
    "                              contour_index=cells['cell_index'],\n",
    "                              sample_id=sample_id,\n",
    "                              image_roi=image_roi)\n",
    "\n",
    "    cohort_graph_dataset.append(sample_data_object)"
   ]
  },
  {
   "cell_type": "markdown",
   "id": "ff162fa7",
   "metadata": {},
   "source": [
    "## Model traing\n",
    "### Training configuration"
   ]
  },
  {
   "cell_type": "code",
   "execution_count": 14,
   "id": "10793c7e",
   "metadata": {},
   "outputs": [],
   "source": [
    "model_encoder_configuration = [35, 32, 32]\n",
    "model_decoder_configuration = [32, 64, 32]\n",
    "device = 'cuda:2'\n",
    "num_epochs = 100\n",
    "num_repeat_discriminator = 5\n",
    "discriminator_lr = 0.001\n",
    "encoder_lr = 0.005\n",
    "save_models_dir = 'models_corrected'\n",
    "features_num = model_encoder_configuration[2]\n",
    "save_inference = None\n",
    "n_communities = 15"
   ]
  },
  {
   "cell_type": "markdown",
   "id": "a6835599",
   "metadata": {},
   "source": [
    "### Define the model"
   ]
  },
  {
   "cell_type": "code",
   "execution_count": 15,
   "id": "c3253d19",
   "metadata": {},
   "outputs": [],
   "source": [
    "encoder = Encoder(*model_encoder_configuration)\n",
    "discriminator = Discriminator(*model_decoder_configuration)\n",
    "model = ARGVA(encoder, discriminator)\n",
    "\n",
    "device = torch.device(device if torch.cuda.is_available() else 'cpu')\n",
    "model.train()\n",
    "model.to(device);"
   ]
  },
  {
   "cell_type": "markdown",
   "id": "732cabe8",
   "metadata": {},
   "source": [
    "### Train"
   ]
  },
  {
   "cell_type": "code",
   "execution_count": 16,
   "id": "738fc836",
   "metadata": {},
   "outputs": [
    {
     "name": "stderr",
     "output_type": "stream",
     "text": [
      "/home/avarlamova/torch_38/lib/python3.8/site-packages/torch_geometric/deprecation.py:13: UserWarning: 'data.DataLoader' is deprecated, use 'loader.DataLoader' instead\n",
      "  warnings.warn(out)\n"
     ]
    },
    {
     "data": {
      "application/vnd.jupyter.widget-view+json": {
       "model_id": "edb515f5106543b5b15d7ba15a7d1280",
       "version_major": 2,
       "version_minor": 0
      },
      "text/plain": [
       "  0%|          | 0/100 [00:00<?, ?it/s]"
      ]
     },
     "metadata": {},
     "output_type": "display_data"
    },
    {
     "name": "stdout",
     "output_type": "stream",
     "text": [
      "Epoch: 0 Mean epoch loss: 5.107093858718872\n",
      "Epoch: 1 Mean epoch loss: 3.8994171142578127\n",
      "Epoch: 2 Mean epoch loss: 3.695316505432129\n",
      "Epoch: 3 Mean epoch loss: 5.110714864730835\n",
      "Epoch: 4 Mean epoch loss: 5.458371353149414\n",
      "Epoch: 5 Mean epoch loss: 5.278672504425049\n",
      "Epoch: 6 Mean epoch loss: 5.0319136619567875\n",
      "Epoch: 7 Mean epoch loss: 4.76866979598999\n",
      "Epoch: 8 Mean epoch loss: 4.564383840560913\n",
      "Epoch: 9 Mean epoch loss: 4.549094343185425\n",
      "Epoch: 10 Mean epoch loss: 4.688147163391113\n",
      "Epoch: 11 Mean epoch loss: 4.781277513504028\n",
      "Epoch: 12 Mean epoch loss: 4.73900957107544\n",
      "Epoch: 13 Mean epoch loss: 4.6255796432495115\n",
      "Epoch: 14 Mean epoch loss: 4.579879713058472\n",
      "Epoch: 15 Mean epoch loss: 4.593059015274048\n",
      "Epoch: 16 Mean epoch loss: 4.622825717926025\n",
      "Epoch: 17 Mean epoch loss: 4.660258150100708\n",
      "Epoch: 18 Mean epoch loss: 4.673308563232422\n",
      "Epoch: 19 Mean epoch loss: 4.644411420822143\n",
      "Epoch: 20 Mean epoch loss: 4.6301380634307865\n",
      "Epoch: 21 Mean epoch loss: 4.623100662231446\n",
      "Epoch: 22 Mean epoch loss: 4.673342990875244\n",
      "Epoch: 23 Mean epoch loss: 4.695593214035034\n",
      "Epoch: 24 Mean epoch loss: 4.567341423034668\n",
      "Epoch: 25 Mean epoch loss: 4.601486492156982\n",
      "Epoch: 26 Mean epoch loss: 4.594969415664673\n",
      "Epoch: 27 Mean epoch loss: 4.5320329666137695\n",
      "Epoch: 28 Mean epoch loss: 4.518779754638672\n",
      "Epoch: 29 Mean epoch loss: 4.589381217956543\n",
      "Epoch: 30 Mean epoch loss: 4.512258768081665\n",
      "Epoch: 31 Mean epoch loss: 4.457377910614014\n",
      "Epoch: 32 Mean epoch loss: 4.504306030273438\n",
      "Epoch: 33 Mean epoch loss: 4.526648426055909\n",
      "Epoch: 34 Mean epoch loss: 4.41925163269043\n",
      "Epoch: 35 Mean epoch loss: 4.471916580200196\n",
      "Epoch: 36 Mean epoch loss: 4.508785724639893\n",
      "Epoch: 37 Mean epoch loss: 4.43639121055603\n",
      "Epoch: 38 Mean epoch loss: 4.377613639831543\n",
      "Epoch: 39 Mean epoch loss: 4.528530025482178\n",
      "Epoch: 40 Mean epoch loss: 4.380354166030884\n",
      "Epoch: 41 Mean epoch loss: 4.323923397064209\n",
      "Epoch: 42 Mean epoch loss: 4.46030101776123\n",
      "Epoch: 43 Mean epoch loss: 4.4736183166503904\n",
      "Epoch: 44 Mean epoch loss: 4.272619581222534\n",
      "Epoch: 45 Mean epoch loss: 4.418615055084229\n",
      "Epoch: 46 Mean epoch loss: 4.469823169708252\n",
      "Epoch: 47 Mean epoch loss: 4.2473069190979\n",
      "Epoch: 48 Mean epoch loss: 4.320618295669556\n",
      "Epoch: 49 Mean epoch loss: 4.3732281684875485\n",
      "Epoch: 50 Mean epoch loss: 4.215544986724853\n",
      "Epoch: 51 Mean epoch loss: 4.132248640060425\n",
      "Epoch: 52 Mean epoch loss: 4.445826196670533\n",
      "Epoch: 53 Mean epoch loss: 4.277107667922974\n",
      "Epoch: 54 Mean epoch loss: 4.058856701850891\n",
      "Epoch: 55 Mean epoch loss: 4.365690135955811\n",
      "Epoch: 56 Mean epoch loss: 4.401225948333741\n",
      "Epoch: 57 Mean epoch loss: 4.126661396026611\n",
      "Epoch: 58 Mean epoch loss: 4.0990517139434814\n",
      "Epoch: 59 Mean epoch loss: 4.406236982345581\n",
      "Epoch: 60 Mean epoch loss: 4.350826787948608\n",
      "Epoch: 61 Mean epoch loss: 4.013356876373291\n",
      "Epoch: 62 Mean epoch loss: 4.205841660499573\n",
      "Epoch: 63 Mean epoch loss: 4.385163736343384\n",
      "Epoch: 64 Mean epoch loss: 4.2386863231658936\n",
      "Epoch: 65 Mean epoch loss: 4.024332213401794\n",
      "Epoch: 66 Mean epoch loss: 4.234770774841309\n",
      "Epoch: 67 Mean epoch loss: 4.328162002563476\n",
      "Epoch: 68 Mean epoch loss: 4.150002813339233\n",
      "Epoch: 69 Mean epoch loss: 4.065819001197815\n",
      "Epoch: 70 Mean epoch loss: 4.257783651351929\n",
      "Epoch: 71 Mean epoch loss: 4.271190881729126\n",
      "Epoch: 72 Mean epoch loss: 4.033368802070617\n",
      "Epoch: 73 Mean epoch loss: 4.14967532157898\n",
      "Epoch: 74 Mean epoch loss: 4.246472787857056\n",
      "Epoch: 75 Mean epoch loss: 4.159185695648193\n",
      "Epoch: 76 Mean epoch loss: 4.026971817016602\n",
      "Epoch: 77 Mean epoch loss: 4.199731254577637\n",
      "Epoch: 78 Mean epoch loss: 4.2283937454223635\n",
      "Epoch: 79 Mean epoch loss: 4.03793740272522\n",
      "Epoch: 80 Mean epoch loss: 4.121988916397095\n",
      "Epoch: 81 Mean epoch loss: 4.211985540390015\n",
      "Epoch: 82 Mean epoch loss: 4.076352047920227\n",
      "Epoch: 83 Mean epoch loss: 3.9899655103683473\n",
      "Epoch: 84 Mean epoch loss: 4.132551765441894\n",
      "Epoch: 85 Mean epoch loss: 4.059329795837402\n",
      "Epoch: 86 Mean epoch loss: 3.9553932189941405\n",
      "Epoch: 87 Mean epoch loss: 4.123606252670288\n",
      "Epoch: 88 Mean epoch loss: 4.029330372810364\n",
      "Epoch: 89 Mean epoch loss: 3.807025742530823\n",
      "Epoch: 90 Mean epoch loss: 4.054047584533691\n",
      "Epoch: 91 Mean epoch loss: 4.017162394523621\n",
      "Epoch: 92 Mean epoch loss: 3.687570095062256\n",
      "Epoch: 93 Mean epoch loss: 4.0018045663833615\n",
      "Epoch: 94 Mean epoch loss: 4.142993354797364\n",
      "Epoch: 95 Mean epoch loss: 3.7377970457077025\n",
      "Epoch: 96 Mean epoch loss: 3.7396677494049073\n",
      "Epoch: 97 Mean epoch loss: 4.212724256515503\n",
      "Epoch: 98 Mean epoch loss: 4.159992980957031\n",
      "Epoch: 99 Mean epoch loss: 3.644292449951172\n"
     ]
    }
   ],
   "source": [
    "os.makedirs(save_models_dir, exist_ok=True)\n",
    "discriminator_optimizer = torch.optim.Adam(model.discriminator.parameters(), lr=discriminator_lr)\n",
    "encoder_optimizer = torch.optim.Adam(model.encoder.parameters(), lr=encoder_lr)\n",
    "best_loss = 10**9\n",
    "\n",
    "dataloader = DataLoader(cohort_graph_dataset, batch_size=1, shuffle=True)\n",
    "loss_history = []\n",
    "for epoch in tqdm(range(num_epochs)): \n",
    "    mean_epoch_loss = []\n",
    "    for data_train in dataloader:\n",
    "        encoder_optimizer.zero_grad()\n",
    "        data_train = data_train.to(device)\n",
    "        \n",
    "        z = model.encode(data_train.x, data_train.edge_index)\n",
    "\n",
    "        for i in range(5):\n",
    "            discriminator_optimizer.zero_grad()\n",
    "            discriminator_loss = model.discriminator_loss(z)\n",
    "            discriminator_loss.backward()\n",
    "            discriminator_optimizer.step()\n",
    "\n",
    "        loss = model.recon_loss(z, data_train.edge_index)\n",
    "        loss = loss + model.reg_loss(z)\n",
    "        loss = loss + (1 / data_train.num_nodes) * model.kl_loss()\n",
    "        \n",
    "        loss.backward()\n",
    "        encoder_optimizer.step()\n",
    "        \n",
    "        mean_epoch_loss.append(loss.item())\n",
    "    \n",
    "    mean_epoch_loss = np.mean(mean_epoch_loss)\n",
    "    loss_history.append(mean_epoch_loss)\n",
    "    print(f'Epoch: {epoch} Mean epoch loss: {mean_epoch_loss}')\n",
    "    \n",
    "    if best_loss > mean_epoch_loss:\n",
    "        torch.save(model.state_dict(), f'{save_models_dir}/community_model_{mean_epoch_loss:.4f}.pth')"
   ]
  },
  {
   "cell_type": "code",
   "execution_count": 17,
   "id": "d9042696",
   "metadata": {},
   "outputs": [
    {
     "data": {
      "image/png": "[encoded data removed]",
      "text/plain": [
       "<Figure size 648x648 with 1 Axes>"
      ]
     },
     "metadata": {
      "needs_background": "light"
     },
     "output_type": "display_data"
    }
   ],
   "source": [
    "plt.figure(figsize=(9, 9))\n",
    "plt.plot(loss_history)\n",
    "plt.xlabel('epoch')\n",
    "plt.ylabel('loss');"
   ]
  },
  {
   "cell_type": "markdown",
   "id": "b4b3f2ba",
   "metadata": {},
   "source": [
    "### Inference"
   ]
  },
  {
   "cell_type": "code",
   "execution_count": 18,
   "id": "b936a172",
   "metadata": {},
   "outputs": [
    {
     "data": {
      "application/vnd.jupyter.widget-view+json": {
       "model_id": "b918636e783046f7883b64522056fb52",
       "version_major": 2,
       "version_minor": 0
      },
      "text/plain": [
       "  0%|          | 0/10 [00:00<?, ?it/s]"
      ]
     },
     "metadata": {},
     "output_type": "display_data"
    }
   ],
   "source": [
    "model = model.to(device)\n",
    "cohort_embeddings = []\n",
    "for sample_data_object in tqdm(cohort_graph_dataset):\n",
    "    sample_id = sample_data_object.sample_id\n",
    "    image_roi = sample_data_object.image_roi\n",
    "    with torch.no_grad():\n",
    "        model.eval()\n",
    "        x, edge_index = (sample_data_object.x.to(device), \n",
    "                         sample_data_object.edge_index.to(device))\n",
    "\n",
    "        z = model.encode(x, edge_index)\n",
    "        z = z.squeeze()\n",
    "        z = z.detach().cpu().numpy()\n",
    "\n",
    "    node_embeddings = pd.DataFrame(z)\n",
    "    node_embeddings['sample_id'] = sample_id\n",
    "    node_embeddings['image_roi'] = image_roi\n",
    "    node_embeddings['cell_index'] = sample_data_object.contour_index\n",
    "    cohort_embeddings.append(node_embeddings)\n",
    "    \n",
    "cohort_embeddings = pd.concat(cohort_embeddings)\n",
    "cohort_embeddings = cohort_embeddings.reset_index(drop=True)"
   ]
  },
  {
   "cell_type": "markdown",
   "id": "8da685d0",
   "metadata": {},
   "source": [
    "## Cluster embeding"
   ]
  },
  {
   "cell_type": "code",
   "execution_count": 19,
   "id": "5ce675b1",
   "metadata": {},
   "outputs": [
    {
     "name": "stderr",
     "output_type": "stream",
     "text": [
      "Exception ignored on calling ctypes callback function: <function _ThreadpoolInfo._find_modules_with_dl_iterate_phdr.<locals>.match_module_callback at 0x7f05713be3a0>\n",
      "Traceback (most recent call last):\n",
      "  File \"/home/avarlamova/torch_38/lib/python3.8/site-packages/threadpoolctl.py\", line 400, in match_module_callback\n",
      "    self._make_module_from_path(filepath)\n",
      "  File \"/home/avarlamova/torch_38/lib/python3.8/site-packages/threadpoolctl.py\", line 515, in _make_module_from_path\n",
      "    module = module_class(filepath, prefix, user_api, internal_api)\n",
      "  File \"/home/avarlamova/torch_38/lib/python3.8/site-packages/threadpoolctl.py\", line 606, in __init__\n",
      "    self.version = self.get_version()\n",
      "  File \"/home/avarlamova/torch_38/lib/python3.8/site-packages/threadpoolctl.py\", line 646, in get_version\n",
      "    config = get_config().split()\n",
      "AttributeError: 'NoneType' object has no attribute 'split'\n"
     ]
    }
   ],
   "source": [
    "clusterer = MiniBatchKMeans(n_clusters=n_communities, random_state=random_state)\n",
    "embedding_clusters = clusterer.fit_predict(cohort_embeddings[list(range(features_num))].values)\n",
    "embedding_clusters = pd.Series(embedding_clusters, name='graph_cluster')\n",
    "embedding_clusters = 'cluster_' + embedding_clusters.apply(str)\n",
    "cohort_embeddings['graph_cluster'] = embedding_clusters\n",
    "if save_inference is not None:\n",
    "    cohort_embeddings.to_csv(save_inference, index=False)"
   ]
  }
 ],
 "metadata": {
  "kernelspec": {
   "display_name": "torch_38",
   "language": "python",
   "name": "torch_38"
  },
  "language_info": {
   "codemirror_mode": {
    "name": "ipython",
    "version": 3
   },
   "file_extension": ".py",
   "mimetype": "text/x-python",
   "name": "python",
   "nbconvert_exporter": "python",
   "pygments_lexer": "ipython3",
   "version": "3.8.10"
  },
  "toc": {
   "base_numbering": 1,
   "nav_menu": {},
   "number_sections": true,
   "sideBar": true,
   "skip_h1_title": false,
   "title_cell": "Table of Contents",
   "title_sidebar": "Contents",
   "toc_cell": false,
   "toc_position": {},
   "toc_section_display": true,
   "toc_window_display": false
  }
 },
 "nbformat": 4,
 "nbformat_minor": 5
}
