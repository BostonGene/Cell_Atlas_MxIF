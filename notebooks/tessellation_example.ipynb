{
 "cells": [
  {
   "cell_type": "code",
   "execution_count": 1,
   "id": "fa15f8f8",
   "metadata": {
    "execution": {
     "iopub.execute_input": "2024-08-09T08:12:38.340273Z",
     "iopub.status.busy": "2024-08-09T08:12:38.339478Z",
     "iopub.status.idle": "2024-08-09T08:12:40.350011Z",
     "shell.execute_reply": "2024-08-09T08:12:40.348546Z",
     "shell.execute_reply.started": "2024-08-09T08:12:38.340196Z"
    }
   },
   "outputs": [],
   "source": [
    "import random\n",
    "import numpy as np\n",
    "import pandas as pd\n",
    "import matplotlib.pyplot as plt\n",
    "from tqdm.notebook import tqdm\n",
    "from sklearn.cluster import KMeans\n",
    "from skimage.io import imread\n",
    "from skimage.filters import threshold_otsu\n",
    "from mxifpublic.cell_typing.tessellation import gather_parameters\n",
    "from mxifpublic.plotting.plot import tessellation_plot"
   ]
  },
  {
   "cell_type": "markdown",
   "id": "814d176f",
   "metadata": {},
   "source": [
    "## Constant specification"
   ]
  },
  {
   "cell_type": "markdown",
   "id": "f5ab4f95-3e40-4cf7-b76e-0a49fb123b8f",
   "metadata": {},
   "source": [
    "Raw image data in Imaris (.ims) format can be found in the IDR repository (https://idr.openmicroscopy.org) under the accession number idr0158. To use the code provided below, first convert the .ims images to the TIFF format, ensuring that each channel is saved as a separate TIFF image. Place these images in a designated folder, such as IBEX_raw_images. The code below provides the example for lymph node samples (nLN1 and nLN2) using the CD68, DCSIGN, and SPARC markers. Ensure that the IBEX_raw_images directory contains the raw images with the following names:\n",
    "* nLN1_CD68.tif\n",
    "* nLN1_DCSIGN.tif\n",
    "* nLN1_SPARC.tif\n",
    "* nLN2_CD68.tif\n",
    "* nLN2_DCSIGN.tif\n",
    "* nLN2_SPARC.tif"
   ]
  },
  {
   "cell_type": "code",
   "execution_count": 15,
   "id": "db6708fd",
   "metadata": {
    "code_folding": [
     10
    ],
    "execution": {
     "iopub.execute_input": "2024-07-26T11:09:52.937490Z",
     "iopub.status.busy": "2024-07-26T11:09:52.936824Z",
     "iopub.status.idle": "2024-07-26T11:09:52.948267Z",
     "shell.execute_reply": "2024-07-26T11:09:52.947168Z",
     "shell.execute_reply.started": "2024-07-26T11:09:52.937438Z"
    }
   },
   "outputs": [],
   "source": [
    "path_masks = f'IBEX_raw_images/'\n",
    "samples_to_process = ['nLN2', 'nLN1']\n",
    "markers = ['CD68', 'DCSIGN', 'SPARC']\n",
    "base_markers = ['CD68',  'DCSIGN']\n",
    "assert (len(markers) > 0) & (len(samples_to_process) > 0)\n",
    "side_size = 16\n",
    "area_threshold = 0.1\n",
    "n_clusters = 20\n",
    "random_state = 42\n",
    "colors = [\n",
    "     '#000000',\n",
    "     '#005A82',\n",
    "     '#00695A',\n",
    "     '#008C78',\n",
    "     '#009940',\n",
    "     '#00BE50',\n",
    "     '#1E82AF',\n",
    "     '#3BA31B',\n",
    "     '#3C64C8',\n",
    "     '#3DF190',\n",
    "     '#4D1F52',\n",
    "     '#54C230',\n",
    "     '#57DFC0',\n",
    "     '#5A00FF',\n",
    "     '#7474A0',\n",
    "     '#7D37CC',\n",
    "     '#7E8A00',\n",
    "     '#80808A',\n",
    "     '#877165',\n",
    "     '#8BF16A',\n",
    "     '#9B2DA5',\n",
    "     '#A0AEFF',\n",
    "     '#A25E36',\n",
    "     '#BD86FB',\n",
    "     '#C8C8D2',\n",
    "     '#CCDA3C',\n",
    "     '#E28FE2',\n",
    "     '#EA2A97',\n",
    "     '#FF6969',\n",
    "     '#FF93D0',\n",
    "     '#FFDA3C',\n",
    "     '#bc4749',\n",
    "     '#f7b267'\n",
    "]\n",
    "assert n_clusters <= len(colors)"
   ]
  },
  {
   "cell_type": "markdown",
   "id": "b9ca302d",
   "metadata": {},
   "source": [
    "## Gather parameters to cluster"
   ]
  },
  {
   "cell_type": "code",
   "execution_count": 16,
   "id": "622cac8a",
   "metadata": {
    "execution": {
     "iopub.execute_input": "2024-07-26T11:09:55.255990Z",
     "iopub.status.busy": "2024-07-26T11:09:55.255218Z",
     "iopub.status.idle": "2024-07-26T11:10:33.878941Z",
     "shell.execute_reply": "2024-07-26T11:10:33.877621Z",
     "shell.execute_reply.started": "2024-07-26T11:09:55.255930Z"
    }
   },
   "outputs": [
    {
     "name": "stderr",
     "output_type": "stream",
     "text": [
      "100%|██████████| 3/3 [00:18<00:00,  6.23s/it]\n",
      "100%|██████████| 3/3 [00:10<00:00,  3.38s/it]\n"
     ]
    }
   ],
   "source": [
    "shapes = {}\n",
    "parameters = []\n",
    "for sample_id in samples_to_process:\n",
    "    images = []\n",
    "    for marker in markers:\n",
    "        image = imread(f'{path_masks}/{sample_id}_{marker}.tif')\n",
    "\n",
    "        # It is recommended to verify whether the Otsu method provides an appropriate threshold value; if it does not, manually set the threshold.\n",
    "        signal_mask = (image > threshold_otsu(image)).astype('uint8') * 255\n",
    "        images.append(signal_mask)\n",
    "    mask = np.full_like(signal_mask, 255)\n",
    "    shapes[sample_id] = mask.shape\n",
    "    df = gather_parameters(images, markers, \n",
    "                           mask, side_size, verbose=True)\n",
    "    df['sample_id'] = sample_id\n",
    "    parameters.append(df)\n",
    "parameters = pd.concat(parameters).reset_index(drop=True)\n",
    "parameters['sum'] = parameters[base_markers].sum(axis=1)\n",
    "parameters = parameters[parameters['sum'] > area_threshold].reset_index(drop=True).drop('sum', axis=1)"
   ]
  },
  {
   "cell_type": "markdown",
   "id": "49b8ff31",
   "metadata": {},
   "source": [
    "## Clustering"
   ]
  },
  {
   "cell_type": "code",
   "execution_count": 17,
   "id": "e397a9af",
   "metadata": {
    "execution": {
     "iopub.execute_input": "2024-07-26T11:10:38.328137Z",
     "iopub.status.busy": "2024-07-26T11:10:38.327452Z",
     "iopub.status.idle": "2024-07-26T11:10:50.388414Z",
     "shell.execute_reply": "2024-07-26T11:10:50.387329Z",
     "shell.execute_reply.started": "2024-07-26T11:10:38.328084Z"
    }
   },
   "outputs": [],
   "source": [
    "clusterer = KMeans(n_clusters=n_clusters, \n",
    "                   random_state=random_state)\n",
    "embedding_clusters = clusterer.fit_predict(parameters[markers])\n",
    "embedding_clusters = pd.Series(embedding_clusters, name='tessellation_cluster')\n",
    "embedding_clusters = 'cluster_' + embedding_clusters.apply(str)\n",
    "parameters['tessellation_cluster'] = embedding_clusters"
   ]
  },
  {
   "cell_type": "markdown",
   "id": "ef253da3",
   "metadata": {
    "code_folding": [
     0
    ]
   },
   "source": [
    "## Plotting"
   ]
  },
  {
   "cell_type": "code",
   "execution_count": 18,
   "id": "ecd6f9c3",
   "metadata": {
    "execution": {
     "iopub.execute_input": "2024-07-26T11:10:51.455941Z",
     "iopub.status.busy": "2024-07-26T11:10:51.455126Z",
     "iopub.status.idle": "2024-07-26T11:10:51.483108Z",
     "shell.execute_reply": "2024-07-26T11:10:51.482358Z",
     "shell.execute_reply.started": "2024-07-26T11:10:51.455880Z"
    }
   },
   "outputs": [],
   "source": [
    "palette = {cluster: color for cluster, color in zip([f'cluster_{i}' for i in range(n_clusters)],\n",
    "                                                    random.sample(colors, n_clusters))}\n",
    "sample_to_plot = samples_to_process[0]\n",
    "sample_df = parameters[parameters['sample_id'] == sample_to_plot].reset_index(drop=True)\n",
    "image = tessellation_plot(sample_df['tessellation_cluster'], sample_df['x'], sample_df['y'], \n",
    "                          palette=palette, width=shapes[sample_to_plot][1]//side_size, \n",
    "                          height=shapes[sample_to_plot][0]//side_size,\n",
    "                          dark_background=True, resize=1\n",
    "                         )"
   ]
  }
 ],
 "metadata": {
  "kernelspec": {
   "display_name": "cellatlasenv",
   "language": "python",
   "name": "cellatlasenv"
  },
  "language_info": {
   "codemirror_mode": {
    "name": "ipython",
    "version": 3
   },
   "file_extension": ".py",
   "mimetype": "text/x-python",
   "name": "python",
   "nbconvert_exporter": "python",
   "pygments_lexer": "ipython3",
   "version": "3.8.0"
  }
 },
 "nbformat": 4,
 "nbformat_minor": 5
}
